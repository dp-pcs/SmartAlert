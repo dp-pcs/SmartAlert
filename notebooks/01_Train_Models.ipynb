{
 "cells": [
  {
   "cell_type": "raw",
   "metadata": {
    "vscode": {
     "languageId": "raw"
    }
   },
   "source": [
    "# SmartAlert AI - Model Training\n",
    "\n",
    "This notebook trains machine learning models to predict critical incidents from Splunk-style logs.\n",
    "\n",
    "## Overview\n",
    "- Load and explore the synthetic Splunk log dataset\n",
    "- Feature engineering and preprocessing\n",
    "- Train multiple ML models (Random Forest, XGBoost, LightGBM)\n",
    "- Model evaluation and comparison\n",
    "- Save the best performing model\n"
   ]
  },
  {
   "cell_type": "code",
   "execution_count": 5,
   "metadata": {},
   "outputs": [],
   "source": [
    "# Import required libraries\n",
    "import pandas as pd\n",
    "import numpy as np\n",
    "import matplotlib.pyplot as plt\n",
    "import seaborn as sns\n",
    "from sklearn.model_selection import train_test_split, cross_val_score, GridSearchCV\n",
    "from sklearn.ensemble import RandomForestClassifier\n",
    "from sklearn.metrics import classification_report, confusion_matrix, roc_auc_score, roc_curve\n",
    "from sklearn.preprocessing import LabelEncoder, StandardScaler\n",
    "import xgboost as xgb\n",
    "import lightgbm as lgb\n",
    "import joblib\n",
    "import warnings\n",
    "warnings.filterwarnings('ignore')\n",
    "\n",
    "# Set style for plots\n",
    "plt.style.use('seaborn-v0_8')\n",
    "sns.set_palette(\"husl\")\n"
   ]
  },
  {
   "cell_type": "raw",
   "metadata": {
    "vscode": {
     "languageId": "raw"
    }
   },
   "source": [
    "## 1. Data Loading and Exploration\n"
   ]
  },
  {
   "cell_type": "code",
   "execution_count": 6,
   "metadata": {},
   "outputs": [
    {
     "name": "stdout",
     "output_type": "stream",
     "text": [
      "Dataset shape: (50000, 7)\n",
      "\n",
      "Column names: ['timestamp', 'source_ip', 'event_type', 'error_code', 'message_length', 'freq_similar_alerts', 'critical']\n",
      "\n",
      "First few rows:\n"
     ]
    },
    {
     "data": {
      "text/html": [
       "<div>\n",
       "<style scoped>\n",
       "    .dataframe tbody tr th:only-of-type {\n",
       "        vertical-align: middle;\n",
       "    }\n",
       "\n",
       "    .dataframe tbody tr th {\n",
       "        vertical-align: top;\n",
       "    }\n",
       "\n",
       "    .dataframe thead th {\n",
       "        text-align: right;\n",
       "    }\n",
       "</style>\n",
       "<table border=\"1\" class=\"dataframe\">\n",
       "  <thead>\n",
       "    <tr style=\"text-align: right;\">\n",
       "      <th></th>\n",
       "      <th>timestamp</th>\n",
       "      <th>source_ip</th>\n",
       "      <th>event_type</th>\n",
       "      <th>error_code</th>\n",
       "      <th>message_length</th>\n",
       "      <th>freq_similar_alerts</th>\n",
       "      <th>critical</th>\n",
       "    </tr>\n",
       "  </thead>\n",
       "  <tbody>\n",
       "    <tr>\n",
       "      <th>0</th>\n",
       "      <td>2023-01-01 00:00:00</td>\n",
       "      <td>192.168.1.103</td>\n",
       "      <td>login</td>\n",
       "      <td>0</td>\n",
       "      <td>57</td>\n",
       "      <td>2</td>\n",
       "      <td>0</td>\n",
       "    </tr>\n",
       "    <tr>\n",
       "      <th>1</th>\n",
       "      <td>2023-01-01 00:01:00</td>\n",
       "      <td>192.168.1.180</td>\n",
       "      <td>error</td>\n",
       "      <td>300</td>\n",
       "      <td>53</td>\n",
       "      <td>3</td>\n",
       "      <td>0</td>\n",
       "    </tr>\n",
       "    <tr>\n",
       "      <th>2</th>\n",
       "      <td>2023-01-01 00:02:00</td>\n",
       "      <td>192.168.1.93</td>\n",
       "      <td>login</td>\n",
       "      <td>0</td>\n",
       "      <td>50</td>\n",
       "      <td>1</td>\n",
       "      <td>0</td>\n",
       "    </tr>\n",
       "    <tr>\n",
       "      <th>3</th>\n",
       "      <td>2023-01-01 00:03:00</td>\n",
       "      <td>192.168.1.15</td>\n",
       "      <td>login</td>\n",
       "      <td>500</td>\n",
       "      <td>66</td>\n",
       "      <td>1</td>\n",
       "      <td>0</td>\n",
       "    </tr>\n",
       "    <tr>\n",
       "      <th>4</th>\n",
       "      <td>2023-01-01 00:04:00</td>\n",
       "      <td>192.168.1.107</td>\n",
       "      <td>login</td>\n",
       "      <td>0</td>\n",
       "      <td>43</td>\n",
       "      <td>1</td>\n",
       "      <td>0</td>\n",
       "    </tr>\n",
       "  </tbody>\n",
       "</table>\n",
       "</div>"
      ],
      "text/plain": [
       "             timestamp      source_ip event_type  error_code  message_length  \\\n",
       "0  2023-01-01 00:00:00  192.168.1.103      login           0              57   \n",
       "1  2023-01-01 00:01:00  192.168.1.180      error         300              53   \n",
       "2  2023-01-01 00:02:00   192.168.1.93      login           0              50   \n",
       "3  2023-01-01 00:03:00   192.168.1.15      login         500              66   \n",
       "4  2023-01-01 00:04:00  192.168.1.107      login           0              43   \n",
       "\n",
       "   freq_similar_alerts  critical  \n",
       "0                    2         0  \n",
       "1                    3         0  \n",
       "2                    1         0  \n",
       "3                    1         0  \n",
       "4                    1         0  "
      ]
     },
     "execution_count": 6,
     "metadata": {},
     "output_type": "execute_result"
    }
   ],
   "source": [
    "# Load the dataset\n",
    "df = pd.read_csv('../data/splunk_logs.csv')\n",
    "\n",
    "print(f\"Dataset shape: {df.shape}\")\n",
    "print(f\"\\nColumn names: {list(df.columns)}\")\n",
    "print(f\"\\nFirst few rows:\")\n",
    "df.head()\n"
   ]
  },
  {
   "cell_type": "code",
   "execution_count": 7,
   "metadata": {},
   "outputs": [
    {
     "name": "stdout",
     "output_type": "stream",
     "text": [
      "Dataset Info:\n",
      "<class 'pandas.core.frame.DataFrame'>\n",
      "RangeIndex: 50000 entries, 0 to 49999\n",
      "Data columns (total 7 columns):\n",
      " #   Column               Non-Null Count  Dtype \n",
      "---  ------               --------------  ----- \n",
      " 0   timestamp            50000 non-null  object\n",
      " 1   source_ip            50000 non-null  object\n",
      " 2   event_type           50000 non-null  object\n",
      " 3   error_code           50000 non-null  int64 \n",
      " 4   message_length       50000 non-null  int64 \n",
      " 5   freq_similar_alerts  50000 non-null  int64 \n",
      " 6   critical             50000 non-null  int64 \n",
      "dtypes: int64(4), object(3)\n",
      "memory usage: 2.7+ MB\n",
      "\n",
      "Missing values:\n",
      "timestamp              0\n",
      "source_ip              0\n",
      "event_type             0\n",
      "error_code             0\n",
      "message_length         0\n",
      "freq_similar_alerts    0\n",
      "critical               0\n",
      "dtype: int64\n",
      "\n",
      "Basic statistics:\n"
     ]
    },
    {
     "data": {
      "text/html": [
       "<div>\n",
       "<style scoped>\n",
       "    .dataframe tbody tr th:only-of-type {\n",
       "        vertical-align: middle;\n",
       "    }\n",
       "\n",
       "    .dataframe tbody tr th {\n",
       "        vertical-align: top;\n",
       "    }\n",
       "\n",
       "    .dataframe thead th {\n",
       "        text-align: right;\n",
       "    }\n",
       "</style>\n",
       "<table border=\"1\" class=\"dataframe\">\n",
       "  <thead>\n",
       "    <tr style=\"text-align: right;\">\n",
       "      <th></th>\n",
       "      <th>error_code</th>\n",
       "      <th>message_length</th>\n",
       "      <th>freq_similar_alerts</th>\n",
       "      <th>critical</th>\n",
       "    </tr>\n",
       "  </thead>\n",
       "  <tbody>\n",
       "    <tr>\n",
       "      <th>count</th>\n",
       "      <td>50000.000000</td>\n",
       "      <td>50000.000000</td>\n",
       "      <td>50000.000000</td>\n",
       "      <td>50000.000000</td>\n",
       "    </tr>\n",
       "    <tr>\n",
       "      <th>mean</th>\n",
       "      <td>104.628000</td>\n",
       "      <td>50.004660</td>\n",
       "      <td>1.996900</td>\n",
       "      <td>0.031480</td>\n",
       "    </tr>\n",
       "    <tr>\n",
       "      <th>std</th>\n",
       "      <td>152.242718</td>\n",
       "      <td>7.106744</td>\n",
       "      <td>1.415885</td>\n",
       "      <td>0.174613</td>\n",
       "    </tr>\n",
       "    <tr>\n",
       "      <th>min</th>\n",
       "      <td>0.000000</td>\n",
       "      <td>22.000000</td>\n",
       "      <td>0.000000</td>\n",
       "      <td>0.000000</td>\n",
       "    </tr>\n",
       "    <tr>\n",
       "      <th>25%</th>\n",
       "      <td>0.000000</td>\n",
       "      <td>45.000000</td>\n",
       "      <td>1.000000</td>\n",
       "      <td>0.000000</td>\n",
       "    </tr>\n",
       "    <tr>\n",
       "      <th>50%</th>\n",
       "      <td>0.000000</td>\n",
       "      <td>50.000000</td>\n",
       "      <td>2.000000</td>\n",
       "      <td>0.000000</td>\n",
       "    </tr>\n",
       "    <tr>\n",
       "      <th>75%</th>\n",
       "      <td>200.000000</td>\n",
       "      <td>55.000000</td>\n",
       "      <td>3.000000</td>\n",
       "      <td>0.000000</td>\n",
       "    </tr>\n",
       "    <tr>\n",
       "      <th>max</th>\n",
       "      <td>500.000000</td>\n",
       "      <td>84.000000</td>\n",
       "      <td>10.000000</td>\n",
       "      <td>1.000000</td>\n",
       "    </tr>\n",
       "  </tbody>\n",
       "</table>\n",
       "</div>"
      ],
      "text/plain": [
       "         error_code  message_length  freq_similar_alerts      critical\n",
       "count  50000.000000    50000.000000         50000.000000  50000.000000\n",
       "mean     104.628000       50.004660             1.996900      0.031480\n",
       "std      152.242718        7.106744             1.415885      0.174613\n",
       "min        0.000000       22.000000             0.000000      0.000000\n",
       "25%        0.000000       45.000000             1.000000      0.000000\n",
       "50%        0.000000       50.000000             2.000000      0.000000\n",
       "75%      200.000000       55.000000             3.000000      0.000000\n",
       "max      500.000000       84.000000            10.000000      1.000000"
      ]
     },
     "execution_count": 7,
     "metadata": {},
     "output_type": "execute_result"
    }
   ],
   "source": [
    "# Basic data info\n",
    "print(\"Dataset Info:\")\n",
    "df.info()\n",
    "\n",
    "print(\"\\nMissing values:\")\n",
    "print(df.isnull().sum())\n",
    "\n",
    "print(\"\\nBasic statistics:\")\n",
    "df.describe()\n"
   ]
  },
  {
   "cell_type": "code",
   "execution_count": 8,
   "metadata": {},
   "outputs": [
    {
     "name": "stdout",
     "output_type": "stream",
     "text": [
      "Target column: critical\n",
      "Target distribution:\n",
      "critical\n",
      "0    48426\n",
      "1     1574\n",
      "Name: count, dtype: int64\n"
     ]
    },
    {
     "data": {
      "image/png": "[encoded data removed]",
      "text/plain": [
       "<Figure size 800x600 with 1 Axes>"
      ]
     },
     "metadata": {},
     "output_type": "display_data"
    }
   ],
   "source": [
    "# Check target variable distribution (assuming there's a target column)\n",
    "# Update this based on the actual column names in your dataset\n",
    "target_cols = [col for col in df.columns if 'critical' in col.lower() or 'incident' in col.lower() or 'target' in col.lower()]\n",
    "if target_cols:\n",
    "    target_col = target_cols[0]\n",
    "    print(f\"Target column: {target_col}\")\n",
    "    print(f\"Target distribution:\")\n",
    "    print(df[target_col].value_counts())\n",
    "    \n",
    "    # Plot target distribution\n",
    "    plt.figure(figsize=(8, 6))\n",
    "    df[target_col].value_counts().plot(kind='bar')\n",
    "    plt.title('Target Variable Distribution')\n",
    "    plt.ylabel('Count')\n",
    "    plt.xticks(rotation=45)\n",
    "    plt.tight_layout()\n",
    "    plt.show()\n",
    "else:\n",
    "    print(\"No obvious target column found. Available columns:\")\n",
    "    print(df.columns.tolist())\n",
    "\n",
    "# Note: Continue with feature engineering, model training, and evaluation\n",
    "# This notebook provides a comprehensive framework for ML model development\n"
   ]
  },
  {
   "cell_type": "code",
   "execution_count": null,
   "metadata": {},
   "outputs": [],
   "source": []
  },
  {
   "cell_type": "code",
   "execution_count": null,
   "metadata": {},
   "outputs": [],
   "source": []
  },
  {
   "cell_type": "code",
   "execution_count": null,
   "metadata": {},
   "outputs": [],
   "source": []
  }
 ],
 "metadata": {
  "kernelspec": {
   "display_name": "Python 3 (ipykernel)",
   "language": "python",
   "name": "python3"
  },
  "language_info": {
   "codemirror_mode": {
    "name": "ipython",
    "version": 3
   },
   "file_extension": ".py",
   "mimetype": "text/x-python",
   "name": "python",
   "nbconvert_exporter": "python",
   "pygments_lexer": "ipython3",
   "version": "3.13.5"
  }
 },
 "nbformat": 4,
 "nbformat_minor": 4
}
