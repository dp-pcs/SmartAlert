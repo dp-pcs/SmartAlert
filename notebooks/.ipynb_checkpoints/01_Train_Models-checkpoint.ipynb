{
  "cells": [
    {
      "cell_type": "raw",
      "metadata": {
        "vscode": {
          "languageId": "raw"
        }
      },
      "source": [
        "# SmartAlert AI - Model Training\n",
        "\n",
        "This notebook trains machine learning models to predict critical incidents from Splunk-style logs.\n",
        "\n",
        "## Overview\n",
        "- Load and explore the synthetic Splunk log dataset\n",
        "- Feature engineering and preprocessing\n",
        "- Train multiple ML models (Random Forest, XGBoost, LightGBM)\n",
        "- Model evaluation and comparison\n",
        "- Save the best performing model\n"
      ]
    },
    {
      "cell_type": "code",
      "execution_count": null,
      "metadata": {},
      "outputs": [],
      "source": [
        "# Import required libraries\n",
        "import pandas as pd\n",
        "import numpy as np\n",
        "import matplotlib.pyplot as plt\n",
        "import seaborn as sns\n",
        "from sklearn.model_selection import train_test_split, cross_val_score, GridSearchCV\n",
        "from sklearn.ensemble import RandomForestClassifier\n",
        "from sklearn.metrics import classification_report, confusion_matrix, roc_auc_score, roc_curve\n",
        "from sklearn.preprocessing import LabelEncoder, StandardScaler\n",
        "import xgboost as xgb\n",
        "import lightgbm as lgb\n",
        "import joblib\n",
        "import warnings\n",
        "warnings.filterwarnings('ignore')\n",
        "\n",
        "# Set style for plots\n",
        "plt.style.use('seaborn-v0_8')\n",
        "sns.set_palette(\"husl\")\n"
      ]
    },
    {
      "cell_type": "raw",
      "metadata": {
        "vscode": {
          "languageId": "raw"
        }
      },
      "source": [
        "## 1. Data Loading and Exploration\n"
      ]
    },
    {
      "cell_type": "code",
      "execution_count": null,
      "metadata": {},
      "outputs": [],
      "source": [
        "# Load the dataset\n",
        "df = pd.read_csv('../data/splunk_logs.csv')\n",
        "\n",
        "print(f\"Dataset shape: {df.shape}\")\n",
        "print(f\"\\nColumn names: {list(df.columns)}\")\n",
        "print(f\"\\nFirst few rows:\")\n",
        "df.head()\n"
      ]
    },
    {
      "cell_type": "code",
      "execution_count": null,
      "metadata": {},
      "outputs": [],
      "source": [
        "# Basic data info\n",
        "print(\"Dataset Info:\")\n",
        "df.info()\n",
        "\n",
        "print(\"\\nMissing values:\")\n",
        "print(df.isnull().sum())\n",
        "\n",
        "print(\"\\nBasic statistics:\")\n",
        "df.describe()\n"
      ]
    },
    {
      "cell_type": "code",
      "execution_count": null,
      "metadata": {},
      "outputs": [],
      "source": [
        "# Check target variable distribution (assuming there's a target column)\n",
        "# Update this based on the actual column names in your dataset\n",
        "target_cols = [col for col in df.columns if 'critical' in col.lower() or 'incident' in col.lower() or 'target' in col.lower()]\n",
        "if target_cols:\n",
        "    target_col = target_cols[0]\n",
        "    print(f\"Target column: {target_col}\")\n",
        "    print(f\"Target distribution:\")\n",
        "    print(df[target_col].value_counts())\n",
        "    \n",
        "    # Plot target distribution\n",
        "    plt.figure(figsize=(8, 6))\n",
        "    df[target_col].value_counts().plot(kind='bar')\n",
        "    plt.title('Target Variable Distribution')\n",
        "    plt.ylabel('Count')\n",
        "    plt.xticks(rotation=45)\n",
        "    plt.tight_layout()\n",
        "    plt.show()\n",
        "else:\n",
        "    print(\"No obvious target column found. Available columns:\")\n",
        "    print(df.columns.tolist())\n",
        "\n",
        "# Note: Continue with feature engineering, model training, and evaluation\n",
        "# This notebook provides a comprehensive framework for ML model development\n"
      ]
    }
  ],
  "metadata": {
    "language_info": {
      "name": "python"
    }
  },
  "nbformat": 4,
  "nbformat_minor": 2
}
